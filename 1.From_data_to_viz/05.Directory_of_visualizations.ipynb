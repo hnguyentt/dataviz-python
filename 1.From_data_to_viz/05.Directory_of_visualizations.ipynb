{
 "cells": [
  {
   "cell_type": "markdown",
   "metadata": {},
   "source": [
    "# Chapter 5. Directory of Visualizations "
   ]
  },
  {
   "cell_type": "code",
   "execution_count": 78,
   "metadata": {},
   "outputs": [],
   "source": [
    "import numpy as np\n",
    "import pandas as pd\n",
    "import matplotlib as mpl\n",
    "import matplotlib.pyplot as plt\n",
    "import seaborn as sns"
   ]
  },
  {
   "cell_type": "markdown",
   "metadata": {},
   "source": [
    "## Amounts"
   ]
  },
  {
   "cell_type": "code",
   "execution_count": 28,
   "metadata": {},
   "outputs": [
    {
     "data": {
      "image/png": "[encoded data removed]",
      "text/plain": [
       "<Figure size 720x216 with 3 Axes>"
      ]
     },
     "metadata": {},
     "output_type": "display_data"
    }
   ],
   "source": [
    "from matplotlib.patches import Rectangle\n",
    "from pyproj import transform\n",
    "\n",
    "value_color = \"#B6A87C\"\n",
    "bg_color = \"#FBF6EA\"\n",
    "\n",
    "plt.rcParams['axes.linewidth'] = 1.2\n",
    "plt.rcParams['xtick.major.width'] = 1.2\n",
    "plt.rcParams['xtick.major.size'] = 6\n",
    "plt.rcParams['ytick.major.width'] = 1.2\n",
    "plt.rcParams['ytick.major.size'] = 6\n",
    "plt.rcParams['axes.spines.top'] = False\n",
    "plt.rcParams['axes.spines.right'] = False\n",
    "plt.rcParams['axes.facecolor'] = bg_color\n",
    "plt.rcParams['axes.titlesize'] = 15\n",
    "plt.rcParams['axes.titlepad'] = 10\n",
    "plt.rcParams['axes.titlecolor'] = \"#63512F\"\n",
    "plt.rcParams['axes.edgecolor'] = \"#243400\"\n",
    "\n",
    "values = [2.75, 1.5, 0.75]\n",
    "locs = np.arange(len(values))\n",
    "\n",
    "\n",
    "fig, axes = plt.subplots(1, 3, figsize=(10, 3))\n",
    "fig.subplots_adjust(wspace=0.5)\n",
    "fig.set_facecolor('white')\n",
    "\n",
    "ax = axes[0]\n",
    "ax.bar(locs, values, width=0.7, color=value_color)\n",
    "ax.set_title('Bars')\n",
    "ax.set_yticks(range(0, 4, 1))\n",
    "ax.set_ylim(0, 3.2)\n",
    "ax.tick_params(top=False, bottom=False, left=True, right=False, labelleft=False, labelbottom=False)\n",
    "ax.spines['bottom'].set_visible(False)\n",
    "\n",
    "ax = axes[1]\n",
    "ax.patch.set_facecolor(bg_color)\n",
    "ax.barh(locs, values[::-1], height=0.7, color=value_color)\n",
    "ax.set_title('Bars')\n",
    "ax.set_xticks(range(0, 4, 1))\n",
    "ax.set_xlim(0, 3.2)\n",
    "ax.set_ylim(-0.5, 2.9)\n",
    "ax.spines['left'].set_visible(False)\n",
    "ax.tick_params(top=False, bottom=True, left=False, right=False, labelleft=False, labelbottom=False)\n",
    "\n",
    "\n",
    "ax = axes[2]\n",
    "ax.set_title('Dots')\n",
    "ax.plot(values[::-1], locs, 'o', markersize=10, color=value_color)\n",
    "ax.set_xticks(range(0, 4, 1))\n",
    "ax.set_xlim(0, 3.2)\n",
    "ax.set_ylim(-0.5, 2.9)\n",
    "ax.spines['left'].set_visible(False)\n",
    "ax.tick_params(top=False, bottom=True, left=False, right=False, labelleft=False, labelbottom=False)\n",
    "\n",
    "for ax in axes:\n",
    "    rect = Rectangle((-0.2, -0.1), 1.4, 1.3, facecolor=bg_color, edgecolor=\"None\", transform=ax.transAxes, zorder=-1)\n",
    "    fig.patches.append(rect);"
   ]
  },
  {
   "cell_type": "code",
   "execution_count": 85,
   "metadata": {},
   "outputs": [
    {
     "data": {
      "image/png": "[encoded data removed]",
      "text/plain": [
       "<Figure size 864x432 with 8 Axes>"
      ]
     },
     "metadata": {},
     "output_type": "display_data"
    }
   ],
   "source": [
    "# generate data\n",
    "df = pd.DataFrame({'A': [1.5, 2, 3.5],\n",
    "                   'B': [2.2, 2.5, 2],\n",
    "                   'C': [1.2, 0.6, 1.5]})\n",
    "x = np.arange(3)\n",
    "\n",
    "width = 0.2\n",
    "all_width = 0.65\n",
    "value_colors = [\"#7F6B01\", \"#B6A87C\", \"#E2DAC4\"]\n",
    "bg_color = \"#FBF6EA\"\n",
    "\n",
    "plt.rcParams['axes.linewidth'] = 1.2\n",
    "plt.rcParams['xtick.major.width'] = 1.2\n",
    "plt.rcParams['xtick.major.size'] = 6\n",
    "plt.rcParams['ytick.major.width'] = 1.2\n",
    "plt.rcParams['ytick.major.size'] = 6\n",
    "plt.rcParams['axes.spines.top'] = False\n",
    "plt.rcParams['axes.spines.right'] = False\n",
    "plt.rcParams['axes.facecolor'] = bg_color\n",
    "plt.rcParams['axes.titlesize'] = 15\n",
    "plt.rcParams['axes.titlepad'] = 10\n",
    "plt.rcParams['axes.titlecolor'] = \"#243400\"\n",
    "\n",
    "fig, axes = plt.subplots(2, 4, figsize=(12, 6))\n",
    "fig.subplots_adjust(wspace=0.5, hspace=0.5)\n",
    "fig.set_facecolor('white')\n",
    "\n",
    "ax = axes.flatten()[0]\n",
    "ax.set_title('Grouped Bars')\n",
    "ax.bar(x - all_width + 2*width, df['A'].values, width=width, color=value_colors[0])\n",
    "ax.bar(x, df['B'].values, width=width, color=value_colors[1])\n",
    "ax.bar(x + all_width - 2*width, df['C'].values, width=width, color=value_colors[2])\n",
    "ax.tick_params(top=False, bottom=False, left=True, right=False, labelleft=False, labelbottom=False)\n",
    "ax.spines['bottom'].set_visible(False)\n",
    "\n",
    "\n",
    "ax = axes.flatten()[1]\n",
    "ax.set_title('Grouped Bars')\n",
    "ax.barh(x + all_width - 2*width, df['A'].values, height=width, color=value_colors[0])\n",
    "ax.barh(x, df['B'].values, height=width, color=value_colors[1])\n",
    "ax.barh(x - all_width + 2*width, df['C'].values, height=width, color=value_colors[2])\n",
    "ax.tick_params(top=False, bottom=True, left=False, right=False, labelleft=False, labelbottom=False)\n",
    "ax.spines['left'].set_visible(False)\n",
    "\n",
    "ax = axes.flatten()[2]\n",
    "ax.set_title('Stacked Bars')\n",
    "ax.bar(x, df['A'].values + df['B'].values + df['C'].values, width=0.8, color=value_colors[2], edgecolor='white')\n",
    "ax.bar(x, df['A'].values + df['B'].values, width=0.8, color=value_colors[1], edgecolor='white')\n",
    "ax.bar(x, df['A'].values, width=0.8, color=value_colors[0], edgecolor='white')\n",
    "ax.tick_params(top=False, bottom=False, left=True, right=False, labelleft=False, labelbottom=False)\n",
    "ax.spines['bottom'].set_visible(False)\n",
    "\n",
    "ax = axes.flatten()[3]\n",
    "ax.set_title('Stacked Bars')\n",
    "ax.barh(x, df['A'].values + df['B'].values + df['C'].values, height=0.8, color=value_colors[2], edgecolor='white')\n",
    "ax.barh(x, df['A'].values + df['B'].values, height=0.8, color=value_colors[1], edgecolor='white')\n",
    "ax.barh(x, df['A'].values, height=0.8, color=value_colors[0], edgecolor='white')\n",
    "ax.tick_params(top=False, bottom=True, left=False, right=False, labelleft=False, labelbottom=False)\n",
    "ax.spines['left'].set_visible(False)\n",
    "\n",
    "ax = axes.flatten()[4]\n",
    "cmap = mpl.colors.LinearSegmentedColormap.from_list(\"\", value_colors)\n",
    "ax.set_title('Heatmap')\n",
    "sns.heatmap(df.values, \n",
    "            cmap=cmap,\n",
    "            vmin=df.values.min(),\n",
    "            vmax = df.values.max(),\n",
    "            linecolor='white',\n",
    "            linewidths=2, \n",
    "            ax=ax, \n",
    "            cbar=False)\n",
    "ax.tick_params(top=False, bottom=False, left=False, right=False, labelleft=False, labelbottom=False)\n",
    "\n",
    "for i in range(5, 8):\n",
    "    axes.flatten()[i].axis('off')\n",
    "\n",
    "for i in range(0, 5):\n",
    "    ax = axes.flatten()[i]\n",
    "    rect = Rectangle((-0.2, -0.1), 1.4, 1.3, facecolor=bg_color, edgecolor=\"None\", transform=ax.transAxes, zorder=-1)\n",
    "    fig.patches.append(rect);"
   ]
  },
  {
   "cell_type": "markdown",
   "metadata": {},
   "source": [
    "## Distributions"
   ]
  },
  {
   "cell_type": "code",
   "execution_count": null,
   "metadata": {},
   "outputs": [],
   "source": []
  }
 ],
 "metadata": {
  "kernelspec": {
   "display_name": "Python 3.9.12 ('dataviz')",
   "language": "python",
   "name": "python3"
  },
  "language_info": {
   "codemirror_mode": {
    "name": "ipython",
    "version": 3
   },
   "file_extension": ".py",
   "mimetype": "text/x-python",
   "name": "python",
   "nbconvert_exporter": "python",
   "pygments_lexer": "ipython3",
   "version": "3.9.12"
  },
  "orig_nbformat": 4,
  "vscode": {
   "interpreter": {
    "hash": "cb934a5431f9e93107175f1feb8a482f7eb92d25c2d70ff9463cc9e4391824f5"
   }
  }
 },
 "nbformat": 4,
 "nbformat_minor": 2
}
