{
 "cells": [
  {
   "cell_type": "markdown",
   "metadata": {},
   "source": [
    "<h1><center>Part I: From data to visualization</center></h1>\n",
    "\n",
    "## 2. Visualizing data: Mapping data onto aesthetics"
   ]
  },
  {
   "cell_type": "code",
   "execution_count": 1,
   "metadata": {},
   "outputs": [],
   "source": [
    "# DEPENDENIES\n",
    "from ggplot import *"
   ]
  },
  {
   "cell_type": "markdown",
   "metadata": {},
   "source": [
    "### 2.1 Aesthetics and types of data\n",
    "\n",
    "**Aesthetics:** shape, size, color"
   ]
  },
  {
   "cell_type": "code",
   "execution_count": null,
   "metadata": {},
   "outputs": [],
   "source": []
  },
  {
   "cell_type": "markdown",
   "metadata": {},
   "source": [
    "**All aesthetics fall into 2 groups:**\n",
    "* those that can represent continuous data\n",
    "* those that do not represent continuous data\n",
    "\n",
    "**Data types in visualization:**\n",
    "\n",
    "| Type of variable                  | Examples                                     |\n",
    "|:---------------------------------:|:--------------------------------------------:|\n",
    "| quantitative/numerical continuous | 1.3, 5.7, 83, 1.5x10-2                       |\n",
    "| quantitative/numerical discrete   | 1, 2, 3, 4                                   |\n",
    "| qualitative/categorical unordered | dog, cat, fish                               |\n",
    "| qualitative/categorical ordered   | good, fair, poor                             |\n",
    "| date or time                      | Jan. 5 2018, 8:03am                          |\n",
    "| text                              | The quick brown fox jumps over the lazy dog. |"
   ]
  },
  {
   "cell_type": "code",
   "execution_count": null,
   "metadata": {},
   "outputs": [],
   "source": []
  }
 ],
 "metadata": {
  "kernelspec": {
   "display_name": "dataviz",
   "language": "python",
   "name": "dataviz"
  },
  "language_info": {
   "codemirror_mode": {
    "name": "ipython",
    "version": 3
   },
   "file_extension": ".py",
   "mimetype": "text/x-python",
   "name": "python",
   "nbconvert_exporter": "python",
   "pygments_lexer": "ipython3",
   "version": "3.7.6"
  }
 },
 "nbformat": 4,
 "nbformat_minor": 2
}
